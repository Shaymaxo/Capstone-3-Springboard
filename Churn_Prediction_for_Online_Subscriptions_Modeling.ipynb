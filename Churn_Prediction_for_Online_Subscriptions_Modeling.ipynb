{
  "nbformat": 4,
  "nbformat_minor": 0,
  "metadata": {
    "colab": {
      "provenance": []
    },
    "kernelspec": {
      "name": "python3",
      "display_name": "Python 3"
    },
    "language_info": {
      "name": "python"
    }
  },
  "cells": [
    {
      "cell_type": "markdown",
      "source": [
        "# Churn Prediction Modeling Notebook"
      ],
      "metadata": {
        "id": "PURl-qusVpu-"
      }
    },
    {
      "cell_type": "markdown",
      "source": [
        "**Note:** This notebook is a continuation of the Exploratory Data Analysis (EDA) notebook. It covers model development, evaluation, and preparing data outputs for Tableau.\n",
        "\n",
        "\n",
        "🚀 Project Overview\n",
        "\n",
        "**Problem Statement:** Subscription businesses lose revenue to customer churn.  \n",
        "**Goal:** Train a simple, interpretable model (Logistic Regression & Decision Tree) to generate churn risk scores, then export for a Tableau dashboard."
      ],
      "metadata": {
        "id": "Ez_TevjVVtft"
      }
    },
    {
      "cell_type": "code",
      "execution_count": null,
      "metadata": {
        "colab": {
          "base_uri": "https://localhost:8080/"
        },
        "id": "gxG5Q8xfFiBS",
        "outputId": "27058f93-ff6e-4655-ff10-f4a37963f4f8"
      },
      "outputs": [
        {
          "output_type": "stream",
          "name": "stdout",
          "text": [
            "Mounted at /content/drive\n"
          ]
        }
      ],
      "source": [
        "# churn_modeling_colab.ipynb\n",
        "\n",
        "from google.colab import drive\n",
        "drive.mount('/content/drive')"
      ]
    },
    {
      "cell_type": "code",
      "source": [
        "BASE_PATH = '/content/drive/MyDrive/Capstone3'\n"
      ],
      "metadata": {
        "id": "t-sLrF0zF0dP"
      },
      "execution_count": null,
      "outputs": []
    },
    {
      "cell_type": "code",
      "source": [
        "# STEP 0: Preprocessing and Training Data Development\n",
        "import pandas as pd\n",
        "from sklearn.model_selection import train_test_split\n",
        "from sklearn.preprocessing import StandardScaler\n",
        "from sklearn.linear_model import LogisticRegression\n",
        "from sklearn.tree import DecisionTreeClassifier\n",
        "from sklearn.metrics import roc_auc_score, classification_report\n",
        "import numpy as np"
      ],
      "metadata": {
        "id": "K_AnXx9-F0gG"
      },
      "execution_count": null,
      "outputs": []
    },
    {
      "cell_type": "code",
      "source": [
        "# STEP 1: Load the cleaned dataset from Drive\n",
        "df = pd.read_csv(f\"{BASE_PATH}/cleaned_churn_data_final.csv\")\n",
        "print(\"Available columns:\", df.columns.tolist())"
      ],
      "metadata": {
        "id": "y9kokLoMF0im",
        "colab": {
          "base_uri": "https://localhost:8080/"
        },
        "outputId": "2ce55804-5059-45c8-9b2b-dd20a5b6c83b"
      },
      "execution_count": null,
      "outputs": [
        {
          "output_type": "stream",
          "name": "stdout",
          "text": [
            "Available columns: ['gender', 'SeniorCitizen', 'Partner', 'Dependents', 'tenure', 'PhoneService', 'MultipleLines', 'InternetService', 'OnlineSecurity', 'OnlineBackup', 'DeviceProtection', 'TechSupport', 'StreamingTV', 'StreamingMovies', 'Contract', 'PaperlessBilling', 'PaymentMethod', 'MonthlyCharges', 'TotalCharges', 'Churn', 'tenure_bucket', 'charges_ratio', 'Churn_num']\n"
          ]
        }
      ]
    },
    {
      "cell_type": "code",
      "source": [
        "# STEP 2: Preprocessing\n",
        "# 2.1: Drop original 'Churn' and use 'Churn_num' as target\n",
        "if 'Churn' in df.columns:\n",
        "    df = df.drop('Churn', axis=1)"
      ],
      "metadata": {
        "id": "HBmqaCtpNdM2"
      },
      "execution_count": null,
      "outputs": []
    },
    {
      "cell_type": "code",
      "source": [
        "# 2.2: Create dummy variables for categorical columns\n",
        "categorical_cols = df.select_dtypes(include=['object']).columns.drop('tenure_bucket', errors='ignore')\n",
        "df_encoded = pd.get_dummies(df, columns=categorical_cols, drop_first=True)\n"
      ],
      "metadata": {
        "id": "VAY1wrtRNdKe"
      },
      "execution_count": null,
      "outputs": []
    },
    {
      "cell_type": "code",
      "source": [
        "# 2.3: Drop unencoded tenure_bucket (still string)\n",
        "if 'tenure_bucket' in df_encoded.columns:\n",
        "    df_encoded = df_encoded.drop('tenure_bucket', axis=1)"
      ],
      "metadata": {
        "id": "gY2ASu5rNdIm"
      },
      "execution_count": null,
      "outputs": []
    },
    {
      "cell_type": "code",
      "source": [
        "# 2.4: Standardize numeric features (excluding target 'Churn_num')\n",
        "numerical_cols = df_encoded.select_dtypes(include=['int64', 'float64']).columns.drop('Churn_num')\n",
        "scaler = StandardScaler()\n",
        "df_encoded[numerical_cols] = scaler.fit_transform(df_encoded[numerical_cols])"
      ],
      "metadata": {
        "id": "qu3t5pA4NdGW"
      },
      "execution_count": null,
      "outputs": []
    },
    {
      "cell_type": "code",
      "source": [
        "# 2.5: Split data into training and testing sets\n",
        "X = df_encoded.drop('Churn_num', axis=1)\n",
        "y = df_encoded['Churn_num']\n",
        "X_train, X_test, y_train, y_test = train_test_split(\n",
        "    X, y, stratify=y, test_size=0.2, random_state=42\n",
        ")\n",
        "\n",
        "# Save preprocessed dataset to Drive\n",
        "df_encoded.to_csv(f\"{BASE_PATH}/telco_preprocessed.csv\", index=False)\n",
        "print(\"✅ Preprocessed data saved to telco_preprocessed.csv\")\n"
      ],
      "metadata": {
        "colab": {
          "base_uri": "https://localhost:8080/"
        },
        "id": "6hmxtpEwNdEF",
        "outputId": "b0238c4a-bfa7-49a0-b4c1-2fef9b5c71d2"
      },
      "execution_count": null,
      "outputs": [
        {
          "output_type": "stream",
          "name": "stdout",
          "text": [
            "✅ Preprocessed data saved to telco_preprocessed.csv\n"
          ]
        }
      ]
    },
    {
      "cell_type": "code",
      "source": [
        "# STEP 3: Modeling\n",
        "# 3.1: Logistic Regression\n",
        "logreg = LogisticRegression(max_iter=1000, class_weight='balanced', random_state=42)\n",
        "logreg.fit(X_train, y_train)\n",
        "y_pred_log = logreg.predict(X_test)\n",
        "y_prob_log = logreg.predict_proba(X_test)[:, 1]\n",
        "print(\"Logistic Regression Results\")\n",
        "print(classification_report(y_test, y_pred_log))\n",
        "print(\"ROC AUC:\", roc_auc_score(y_test, y_prob_log))\n",
        "# Feature importance\n",
        "importance_log = pd.Series(logreg.coef_[0], index=X.columns).sort_values(ascending=False)\n",
        "print(\"Top 5 Churn Drivers (LogReg):\")\n",
        "print(importance_log.head())"
      ],
      "metadata": {
        "colab": {
          "base_uri": "https://localhost:8080/"
        },
        "id": "53flys_PNdB9",
        "outputId": "cfda6f6c-51e5-452b-9bbe-425f1944e625"
      },
      "execution_count": null,
      "outputs": [
        {
          "output_type": "stream",
          "name": "stdout",
          "text": [
            "Logistic Regression Results\n",
            "              precision    recall  f1-score   support\n",
            "\n",
            "           0       0.91      0.71      0.80      1035\n",
            "           1       0.50      0.80      0.62       374\n",
            "\n",
            "    accuracy                           0.74      1409\n",
            "   macro avg       0.71      0.76      0.71      1409\n",
            "weighted avg       0.80      0.74      0.75      1409\n",
            "\n",
            "ROC AUC: 0.8490583585212741\n",
            "Top 5 Churn Drivers (LogReg):\n",
            "InternetService_Fiber optic    1.288699\n",
            "StreamingMovies_Yes            0.474621\n",
            "StreamingTV_Yes                0.461778\n",
            "MultipleLines_Yes              0.421806\n",
            "charges_ratio                  0.420602\n",
            "dtype: float64\n"
          ]
        }
      ]
    },
    {
      "cell_type": "markdown",
      "source": [
        "🔍 Logistic Regression Model Results\n",
        "\n",
        "**✅ Model Performance**\n",
        "\n",
        "- Accuracy: 74%\n",
        "- Precision (Churn = 1): 50% — meaning when the model predicts churn, it’s correct half the time\n",
        "- Recall (Churn = 1): 80% — meaning the model correctly catches 80% of all actual churners\n",
        "- ROC-AUC Score: 0.85\n",
        "\n",
        "This indicates strong discriminatory power — the model effectively separates churners from non-churners.\n",
        "\n",
        "\n",
        "---\n",
        "\n",
        "\n",
        "📊 Top Drivers of Churn\n",
        "Based on model coefficients (impact on log-odds of churn):\n",
        "\n",
        "- Fiber Optic Internet Service (+1.29)\n",
        "→ Customers with fiber internet are significantly more likely to churn\n",
        "\n",
        "- Streaming Movies Enabled (+0.47)\n",
        "→ Streaming service users show higher churn rates\n",
        "\n",
        "- Streaming TV Enabled (+0.46)\n",
        "→ Suggests bundling services may not be enough to retain users\n",
        "\n",
        "- Multiple Phone Lines (+0.42)\n",
        "→ More complex accounts may correlate with churn\n",
        "\n",
        "- High Charges Relative to Tenure (charges_ratio) (+0.42)\n",
        "→ Customers paying a lot for a short time are high-risk\n",
        "\n",
        "# 📌 Key Takeaways\n",
        "The model is highly effective at identifying likely churners, which is critical for proactive retention.\n",
        "\n",
        "Fiber customers with multiple services and high relative charges are the most at-risk. These churn drivers can be directly used to target segment-specific offers (e.g., discounts or contract changes).\n",
        "\n"
      ],
      "metadata": {
        "id": "99TTtOVMU6NE"
      }
    },
    {
      "cell_type": "code",
      "source": [
        "# 3.2: Decision Tree (Shallow)\n",
        "tree = DecisionTreeClassifier(max_depth=3, class_weight='balanced', random_state=42)\n",
        "tree.fit(X_train, y_train)\n",
        "y_pred_tree = tree.predict(X_test)\n",
        "y_prob_tree = tree.predict_proba(X_test)[:, 1]\n",
        "print(\"\\nDecision Tree Results\")\n",
        "print(classification_report(y_test, y_pred_tree))\n",
        "print(\"ROC AUC:\", roc_auc_score(y_test, y_prob_tree))\n",
        "# Feature importance\n",
        "importance_tree = pd.Series(tree.feature_importances_, index=X.columns).sort_values(ascending=False)\n",
        "print(\"Top 5 Churn Drivers (DT):\")\n",
        "print(importance_tree.head())\n"
      ],
      "metadata": {
        "colab": {
          "base_uri": "https://localhost:8080/"
        },
        "id": "BCLu3ckaP_5R",
        "outputId": "04352082-3217-4385-a99e-f10462dee712"
      },
      "execution_count": null,
      "outputs": [
        {
          "output_type": "stream",
          "name": "stdout",
          "text": [
            "\n",
            "Decision Tree Results\n",
            "              precision    recall  f1-score   support\n",
            "\n",
            "           0       0.93      0.57      0.71      1035\n",
            "           1       0.43      0.88      0.57       374\n",
            "\n",
            "    accuracy                           0.65      1409\n",
            "   macro avg       0.68      0.73      0.64      1409\n",
            "weighted avg       0.80      0.65      0.67      1409\n",
            "\n",
            "ROC AUC: 0.7862473843292257\n",
            "Top 5 Churn Drivers (DT):\n",
            "Contract_Two year              0.492014\n",
            "Contract_One year              0.307701\n",
            "InternetService_Fiber optic    0.135436\n",
            "StreamingMovies_Yes            0.041401\n",
            "TotalCharges                   0.011653\n",
            "dtype: float64\n"
          ]
        }
      ]
    },
    {
      "cell_type": "markdown",
      "source": [
        "🌲 Decision Tree Model Results (Max Depth = 3)\n",
        "\n",
        "**✅ Model Performance**\n",
        "- Accuracy: 65%\n",
        "- Precision (Churn = 1): 43%\n",
        "- Recall (Churn = 1): 88% (The model is very good at identifying churners but over-predicts churn in some cases.)\n",
        "- ROC-AUC Score: 0.79 (Indicates good performance, though not as strong as logistic regression (which was 0.85).)\n",
        "\n",
        "\n",
        "---\n",
        "\n",
        "\n",
        "📊 Top Drivers of Churn (Feature Importance)\n",
        "- Contract Type: Two-Year (− churn): 49% importance\n",
        "→ Customers on long-term contracts are least likely to churn\n",
        "- Contract Type: One-Year (− churn): 31%\n",
        "→ Medium-term contracts also correlate with low churn\n",
        "- Fiber Optic Internet Service (+ churn): 14%\n",
        "→ Fiber users more likely to leave despite fast service\n",
        "- Streaming Movies Enabled (+ churn): 4%\n",
        "- TotalCharges (slightly + churn): 1%\n",
        "\n",
        "# 📌 Key Takeaways\n",
        "The decision tree confirms contract type as the single strongest predictor of churn. Customers on month-to-month plans are far more likely to churn.\n",
        "\n",
        "This model is very interpretable and useful for business rules-based segmentation. Retention campaigns should prioritize moving customers to longer-term contracts."
      ],
      "metadata": {
        "id": "BPZhgpaxVN5d"
      }
    },
    {
      "cell_type": "code",
      "source": [
        "# STEP 4: Export for Tableau Dashboard\n",
        "full_scores = df.copy()\n",
        "full_scores['churn_score'] = tree.predict_proba(X)[:, 1]\n",
        "full_scores['predicted_label'] = tree.predict(X)\n",
        "full_scores['churn_risk_level'] = pd.cut(\n",
        "    full_scores['churn_score'],\n",
        "    bins=[0, 0.33, 0.66, 1.0],\n",
        "    labels=['Low', 'Medium', 'High']\n",
        ")"
      ],
      "metadata": {
        "id": "kKr2k0UGP_3B"
      },
      "execution_count": null,
      "outputs": []
    },
    {
      "cell_type": "code",
      "source": [
        "# STEP 5: Add segment tag\n",
        "\n",
        "def tag_segment(row):\n",
        "    if pd.isna(row.get('tenure_bucket')) or pd.isna(row.get('Contract')):\n",
        "        return 'General'\n",
        "    contract = str(row['Contract']).strip()\n",
        "    tenure = str(row['tenure_bucket']).strip()\n",
        "    if contract == 'Month-to-month' and tenure in ['0-12', '13-24']:\n",
        "        return 'High Risk Segment'\n",
        "    return 'General'\n",
        "\n",
        "full_scores['segment_tag'] = full_scores.apply(tag_segment, axis=1)"
      ],
      "metadata": {
        "id": "sthcb4gLP_0x"
      },
      "execution_count": null,
      "outputs": []
    },
    {
      "cell_type": "code",
      "source": [
        "# STEP 6: Save Tableau-ready unscaled dataset\n",
        "full_scores.to_csv(f\"{BASE_PATH}/telco_tableau_unscaled.csv\", index=False)\n",
        "print(\"✅ Exported unscaled data for Tableau to telco_tableau_unscaled.csv\")\n",
        "\n",
        "# Export feature importances for Top Drivers sheet\n",
        "importance_tree.head(10).to_csv(f\"{BASE_PATH}/churn_driver_importance.csv\", header=['importance'], index_label='feature')\n",
        "print(\"✅ Exported top churn drivers to churn_driver_importance.csv\")\n"
      ],
      "metadata": {
        "colab": {
          "base_uri": "https://localhost:8080/"
        },
        "id": "NjwA7dozREaz",
        "outputId": "d778c70f-5181-4a9e-c9db-ba9a68ef6570"
      },
      "execution_count": null,
      "outputs": [
        {
          "output_type": "stream",
          "name": "stdout",
          "text": [
            "✅ Exported unscaled data for Tableau to telco_tableau_unscaled.csv\n",
            "✅ Exported top churn drivers to churn_driver_importance.csv\n"
          ]
        }
      ]
    },
    {
      "cell_type": "markdown",
      "source": [
        "# 🤔 Logistic Regression vs. Decision Tree\n",
        "\n",
        "| Metric           | Logistic Regression | Decision Tree |\n",
        "| ---------------- | ------------------- | ------------- |\n",
        "| ROC-AUC          | **0.85** ✅          | 0.79          |\n",
        "| Accuracy         | 74% ✅               | 65%           |\n",
        "| Recall (Churn)   | 80%                 | **88%** ✅     |\n",
        "| Interpretability | Medium              | **High** ✅    |\n",
        "\n",
        "*Conclusion:*\n",
        "- Use **Logistic Regression** for scoring (better ROC‑AUC).\n",
        "- Leverage **Decision Tree** insights for business rules (contract tenure retention strategies)."
      ],
      "metadata": {
        "id": "nPpJQL64VSDN"
      }
    },
    {
      "cell_type": "markdown",
      "source": [
        "# 📚 Next Steps\n",
        "- **Tableau Dashboard:** Connect CSVs and build interactive sheets: Risk Distribution, Segment Explorer, Top Drivers, Modeling Results"
      ],
      "metadata": {
        "id": "QfI00Mala0Gm"
      }
    },
    {
      "cell_type": "code",
      "source": [],
      "metadata": {
        "id": "ZDDCb34AREWb"
      },
      "execution_count": null,
      "outputs": []
    },
    {
      "cell_type": "code",
      "source": [
        "# Logistic Regression Predictions\n",
        "y_pred_logreg = logreg.predict(X_test)\n",
        "y_proba_logreg = logreg.predict_proba(X_test)[:, 1]\n",
        "\n",
        "# Decision Tree Predictions\n",
        "y_pred_tree = tree.predict(X_test)\n",
        "y_proba_tree = tree.predict_proba(X_test)[:, 1]\n",
        "\n",
        "# Optional: Add churn risk level (based on probability)\n",
        "def risk_level(prob):\n",
        "    if prob >= 0.67:\n",
        "        return 'High'\n",
        "    elif prob >= 0.34:\n",
        "        return 'Medium'\n",
        "    else:\n",
        "        return 'Low'\n",
        "\n",
        "# If you have a CustomerID column in your original data\n",
        "# and X_test.index is your customer identifier:\n",
        "results_df = pd.DataFrame({\n",
        "    'CustomerID': X_test.index,\n",
        "    'Actual': y_test,\n",
        "    'LogReg_Predicted': y_pred_logreg,\n",
        "    'LogReg_Probability': y_proba_logreg,\n",
        "    'Tree_Predicted': y_pred_tree,\n",
        "    'Tree_Probability': y_proba_tree\n",
        "})\n",
        "\n",
        "results_df['LogReg_Risk_Level'] = results_df['LogReg_Probability'].apply(risk_level)\n",
        "results_df['Tree_Risk_Level'] = results_df['Tree_Probability'].apply(risk_level)\n",
        "\n",
        "# Export to CSV\n",
        "results_df.to_csv('/content/drive/MyDrive/Capstone3/model_results_for_tableau.csv', index=False)\n",
        "print(\"✅ Exported to model_results_for_tableau.csv\")\n"
      ],
      "metadata": {
        "id": "Na5ZbvYORETz",
        "colab": {
          "base_uri": "https://localhost:8080/"
        },
        "outputId": "acba9d42-01d3-409b-f153-fab5c48a59ee"
      },
      "execution_count": null,
      "outputs": [
        {
          "output_type": "stream",
          "name": "stdout",
          "text": [
            "✅ Exported to model_results_for_tableau.csv\n"
          ]
        }
      ]
    },
    {
      "cell_type": "code",
      "source": [
        "from sklearn.metrics import roc_curve\n",
        "fpr, tpr, thresh = roc_curve(y_test, y_proba_logreg)\n",
        "roc_df = pd.DataFrame({'FPR': fpr, 'TPR': tpr, 'Threshold': thresh})\n",
        "roc_df.to_csv('/content/drive/MyDrive/Capstone3/roc_data.csv', index=False)"
      ],
      "metadata": {
        "id": "z_QC5C0AZPqn"
      },
      "execution_count": null,
      "outputs": []
    }
  ]
}